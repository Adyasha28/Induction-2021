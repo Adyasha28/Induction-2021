{
 "cells": [
  {
   "cell_type": "code",
   "execution_count": null,
   "id": "accessible-missile",
   "metadata": {},
   "outputs": [],
   "source": [
    "#for a simple calculator\n",
    "a=int(input('enter a number: '))\n",
    "b=int(input('enter another number: '))\n",
    "op=input(\"enter the operation: \")\n",
    "if op=='+' :\n",
    "    print(\"a+b=\", a+b)\n",
    "elif op=='-':\n",
    "    print('a-b=', a-b)\n",
    "elif op=='*':\n",
    "    print('a*b=', a*b)\n",
    "elif op=='/':\n",
    "    print('a/b=', a/b)\n",
    "elif op=='%':\n",
    "    print('a%b=', a%b)\n",
    "elif op=='**':\n",
    "    print('a**b=', a**b)\n",
    "elif op=='//':\n",
    "    print('a//b=', a//b)\n",
    "else:\n",
    "    print('invalid input')"
   ]
  }
 ],
 "metadata": {
  "kernelspec": {
   "display_name": "Python 3.7 (XPython)",
   "language": "python",
   "name": "xpython"
  },
  "language_info": {
   "file_extension": ".py",
   "mimetype": "text/x-python",
   "name": "python",
   "version": "3.7.9"
  }
 },
 "nbformat": 4,
 "nbformat_minor": 5
}
