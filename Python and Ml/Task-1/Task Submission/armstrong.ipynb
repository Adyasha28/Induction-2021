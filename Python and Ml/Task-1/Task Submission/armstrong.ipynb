{
 "cells": [
  {
   "cell_type": "code",
   "execution_count": 1,
   "id": "suspended-tsunami",
   "metadata": {},
   "outputs": [
    {
     "name": "stdin",
     "output_type": "stream",
     "text": [
      "enter lower range: 100\n",
      "enter upper range: 500\n"
     ]
    },
    {
     "name": "stdout",
     "output_type": "stream",
     "text": [
      "125\n",
      "153\n",
      "216\n",
      "370\n",
      "371\n",
      "407\n"
     ]
    }
   ],
   "source": [
    "lower=int(input(\"enter lower range:\"))\n",
    "upper=int(input(\"enter upper range:\"))\n",
    "\n",
    "for num in range(lower,upper+1):\n",
    "    sum=0\n",
    "    temp=num\n",
    "    while temp>0:\n",
    "        digit=temp%10\n",
    "        sum+=digit**3\n",
    "        temp//=10\n",
    "        if num==sum:\n",
    "            print(num)"
   ]
  },
  {
   "cell_type": "code",
   "execution_count": null,
   "id": "crude-voice",
   "metadata": {},
   "outputs": [],
   "source": []
  }
 ],
 "metadata": {
  "kernelspec": {
   "display_name": "Python 3",
   "language": "python",
   "name": "python3"
  },
  "language_info": {
   "codemirror_mode": {
    "name": "ipython",
    "version": 3
   },
   "file_extension": ".py",
   "mimetype": "text/x-python",
   "name": "python",
   "nbconvert_exporter": "python",
   "pygments_lexer": "ipython3",
   "version": "3.7.8"
  }
 },
 "nbformat": 4,
 "nbformat_minor": 5
}
