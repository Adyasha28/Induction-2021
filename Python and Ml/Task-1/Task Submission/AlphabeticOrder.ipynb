{
 "cells": [
  {
   "cell_type": "code",
   "execution_count": 1,
   "id": "altered-treasure",
   "metadata": {},
   "outputs": [
    {
     "name": "stdin",
     "output_type": "stream",
     "text": [
      "Enter a string:  i am a mad dog\n"
     ]
    },
    {
     "name": "stdout",
     "output_type": "stream",
     "text": [
      "a\n",
      "am\n",
      "dog\n",
      "i\n",
      "mad\n"
     ]
    }
   ],
   "source": [
    "\n",
    "\n",
    "\n",
    "my_str = input(\"Enter a string: \")  \n",
    "  \n",
    "words = my_str.split()  \n",
    "  \n",
    "words.sort()  \n",
    "  \n",
    "for word in words:  \n",
    "   print(word)"
   ]
  },
  {
   "cell_type": "code",
   "execution_count": null,
   "id": "aerial-morocco",
   "metadata": {},
   "outputs": [],
   "source": []
  }
 ],
 "metadata": {
  "kernelspec": {
   "display_name": "Python 3",
   "language": "python",
   "name": "python3"
  },
  "language_info": {
   "codemirror_mode": {
    "name": "ipython",
    "version": 3
   },
   "file_extension": ".py",
   "mimetype": "text/x-python",
   "name": "python",
   "nbconvert_exporter": "python",
   "pygments_lexer": "ipython3",
   "version": "3.7.8"
  }
 },
 "nbformat": 4,
 "nbformat_minor": 5
}
