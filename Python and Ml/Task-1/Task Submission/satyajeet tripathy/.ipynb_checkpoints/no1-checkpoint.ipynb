{
 "cells": [
  {
   "cell_type": "code",
   "execution_count": 2,
   "id": "aeda859a",
   "metadata": {},
   "outputs": [
    {
     "name": "stdout",
     "output_type": "stream",
     "text": [
      "enter coefficient of x**2 1\n",
      "enter coefficient of x -3\n",
      "enter constant 2\n",
      "answer 1 is  2.0 \n",
      "answer 2 is  1.0\n"
     ]
    }
   ],
   "source": [
    "a=int(input(\"enter coefficient of x**2 \"))\n",
    "b=int(input(\"enter coefficient of x \"))\n",
    "c=int(input(\"enter constant \"))\n",
    "d=b**2-4*a*c\n",
    "ans1=(-b+d**0.5)/(2*a)\n",
    "ans2=(-b-d**0.5)/(2*a)\n",
    "print(\"answer 1 is \",ans1,\"\\nanswer 2 is \",ans2)"
   ]
  },
  {
   "cell_type": "code",
   "execution_count": null,
   "id": "471485fb",
   "metadata": {},
   "outputs": [],
   "source": []
  }
 ],
 "metadata": {
  "kernelspec": {
   "display_name": "Python 3",
   "language": "python",
   "name": "python3"
  },
  "language_info": {
   "codemirror_mode": {
    "name": "ipython",
    "version": 3
   },
   "file_extension": ".py",
   "mimetype": "text/x-python",
   "name": "python",
   "nbconvert_exporter": "python",
   "pygments_lexer": "ipython3",
   "version": "3.9.5"
  }
 },
 "nbformat": 4,
 "nbformat_minor": 5
}
