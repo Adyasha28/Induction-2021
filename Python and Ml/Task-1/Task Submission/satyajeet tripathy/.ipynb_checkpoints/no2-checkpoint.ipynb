{
 "cells": [
  {
   "cell_type": "code",
   "execution_count": 1,
   "id": "5f7fbeeb",
   "metadata": {},
   "outputs": [
    {
     "name": "stdout",
     "output_type": "stream",
     "text": [
      "enter lower limit 1\n",
      "enter higher limit 1000\n",
      "1\n",
      "153\n",
      "370\n",
      "371\n",
      "407\n"
     ]
    }
   ],
   "source": [
    "l=int(input(\"enter lower limit \"))\n",
    "u=int(input(\"enter higher limit \"))\n",
    "for i in range(l,u+1):\n",
    "    num=i\n",
    "    sum=0\n",
    "    while num>0:\n",
    "        d=num%10\n",
    "        sum =sum + d**3\n",
    "        num //= 10 \n",
    "    int(sum)\n",
    "    if(sum==i):\n",
    "      print(sum)\n"
   ]
  }
 ],
 "metadata": {
  "kernelspec": {
   "display_name": "Python 3",
   "language": "python",
   "name": "python3"
  },
  "language_info": {
   "codemirror_mode": {
    "name": "ipython",
    "version": 3
   },
   "file_extension": ".py",
   "mimetype": "text/x-python",
   "name": "python",
   "nbconvert_exporter": "python",
   "pygments_lexer": "ipython3",
   "version": "3.9.5"
  }
 },
 "nbformat": 4,
 "nbformat_minor": 5
}
