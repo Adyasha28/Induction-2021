{
 "cells": [
  {
   "cell_type": "code",
   "execution_count": 1,
   "id": "4d713bc9",
   "metadata": {},
   "outputs": [
    {
     "name": "stdout",
     "output_type": "stream",
     "text": [
      "enter 1st no 1\n",
      "enter symbol +\n",
      "enter 2nd no 2\n",
      "3\n"
     ]
    }
   ],
   "source": [
    "a=int(input(\"enter 1st no \"))\n",
    "b=(input(\"enter symbol \"))\n",
    "c=int(input(\"enter 2nd no \"))\n",
    "if b==\"+\":\n",
    "    print(a+c)\n",
    "elif b==\"-\":\n",
    "    print(a-c)\n",
    "elif b==\"*\":\n",
    "    print(a*c)\n",
    "elif b==\"/\":\n",
    "    print(a/c)\n",
    "elif b==\"%\":\n",
    "    print(a%c)\n",
    "\n",
    "\n",
    "\n"
   ]
  },
  {
   "cell_type": "code",
   "execution_count": null,
   "id": "1550de87",
   "metadata": {},
   "outputs": [],
   "source": []
  }
 ],
 "metadata": {
  "kernelspec": {
   "display_name": "Python 3",
   "language": "python",
   "name": "python3"
  },
  "language_info": {
   "codemirror_mode": {
    "name": "ipython",
    "version": 3
   },
   "file_extension": ".py",
   "mimetype": "text/x-python",
   "name": "python",
   "nbconvert_exporter": "python",
   "pygments_lexer": "ipython3",
   "version": "3.9.5"
  }
 },
 "nbformat": 4,
 "nbformat_minor": 5
}
