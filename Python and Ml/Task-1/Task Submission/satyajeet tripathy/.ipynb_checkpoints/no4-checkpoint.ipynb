{
 "cells": [
  {
   "cell_type": "code",
   "execution_count": 1,
   "id": "97a1014b",
   "metadata": {},
   "outputs": [
    {
     "name": "stdout",
     "output_type": "stream",
     "text": [
      "length of list:2\n",
      "ass\n",
      "asr\n",
      "in sorted order\n",
      "asr\n",
      "ass\n"
     ]
    }
   ],
   "source": [
    "l=[]\n",
    "n=int(input(\"length of list:\"))\n",
    "for i in range(0,n):\n",
    "     k=input()\n",
    "     l.append(k)\n",
    "l.sort()\n",
    "print(\"in sorted order\")\n",
    "for i in range(0,n):\n",
    "   print(l[i])\n"
   ]
  }
 ],
 "metadata": {
  "kernelspec": {
   "display_name": "Python 3",
   "language": "python",
   "name": "python3"
  },
  "language_info": {
   "codemirror_mode": {
    "name": "ipython",
    "version": 3
   },
   "file_extension": ".py",
   "mimetype": "text/x-python",
   "name": "python",
   "nbconvert_exporter": "python",
   "pygments_lexer": "ipython3",
   "version": "3.9.5"
  }
 },
 "nbformat": 4,
 "nbformat_minor": 5
}
