{
 "cells": [
  {
   "cell_type": "code",
   "execution_count": null,
   "id": "latter-lighter",
   "metadata": {},
   "outputs": [],
   "source": [
    "import math\n",
    "def findroots(a,b,c):\n",
    "    form=b*b-4*a*c\n",
    "    sqrt_val=math.sqrt(abs(form))\n",
    "    \n",
    "    if form>0:\n",
    "        print(\"real and different roots\")\n",
    "        print((-b+sqrt_val)/(2*a))\n",
    "        print((-b-sqrt_val)/(2*a))\n",
    "        \n",
    "    elif form==0:\n",
    "        print(\"real and same roots\")\n",
    "        print(-b/(2*a))\n",
    "        \n",
    "    else:\n",
    "        print(\"complex roots\")\n",
    "        print(-b/(2*a),\"+1\",sqrt_val)\n",
    "        print(-b/(2*a),\"-i\",sqrt_val)\n",
    "     \n",
    "    a=int(input('enter a:'))\n",
    "    b=int(input('enter b:'))\n",
    "    c=int(input('enter c:'))\n",
    "    \n",
    "    if a==0:\n",
    "        print(\"input correct quadratic equation\")\n",
    "        \n",
    "    else:\n",
    "        findroots(a,b,c)"
   ]
  }
 ],
 "metadata": {
  "kernelspec": {
   "display_name": "Python 3",
   "language": "python",
   "name": "python3"
  },
  "language_info": {
   "codemirror_mode": {
    "name": "ipython",
    "version": 3
   },
   "file_extension": ".py",
   "mimetype": "text/x-python",
   "name": "python",
   "nbconvert_exporter": "python",
   "pygments_lexer": "ipython3",
   "version": "3.7.8"
  }
 },
 "nbformat": 4,
 "nbformat_minor": 5
}
